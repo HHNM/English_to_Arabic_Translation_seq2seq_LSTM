{
  "nbformat": 4,
  "nbformat_minor": 0,
  "metadata": {
    "colab": {
      "name": "English_to_Arabic_Translation_seq2seq_LSTM.ipynb",
      "provenance": [],
      "collapsed_sections": [],
      "toc_visible": true
    },
    "kernelspec": {
      "name": "python3",
      "display_name": "Python 3"
    },
    "language_info": {
      "name": "python"
    },
    "accelerator": "GPU"
  },
  "cells": [
    {
      "cell_type": "markdown",
      "metadata": {
        "id": "8iTkGlxwgmYL"
      },
      "source": [
        "# LSTM seq2seq translator"
      ]
    },
    {
      "cell_type": "code",
      "metadata": {
        "id": "c0b45f7c-c38d-466f-a5f4-375f09af651d"
      },
      "source": [
        "import pandas as pd\n",
        "import numpy as np\n",
        "from sklearn.model_selection import train_test_split\n",
        "import os\n",
        "import re\n",
        "import string"
      ],
      "execution_count": 1,
      "outputs": []
    },
    {
      "cell_type": "markdown",
      "metadata": {
        "id": "-LXpebxpN8Il"
      },
      "source": [
        "### Load and prepare dataset"
      ]
    },
    {
      "cell_type": "code",
      "metadata": {
        "id": "HMbNznaH8yaB",
        "colab": {
          "base_uri": "https://localhost:8080/"
        },
        "outputId": "2f49d9d8-d19e-424c-a242-1576f918e29b"
      },
      "source": [
        "from google.colab import drive\n",
        "drive.mount(\"/content/gdrive\")"
      ],
      "execution_count": 2,
      "outputs": [
        {
          "output_type": "stream",
          "name": "stdout",
          "text": [
            "Mounted at /content/gdrive\n"
          ]
        }
      ]
    },
    {
      "cell_type": "code",
      "metadata": {
        "id": "e8c5a33e-fc53-4cca-aeef-0028b69d2ad2"
      },
      "source": [
        "df = pd.read_csv('/content/gdrive/My Drive/colab_files/ara/ara.txt',encoding='utf-8', sep='\\t',  names=['English', 'Arabic', 'Attribution'])"
      ],
      "execution_count": 3,
      "outputs": []
    },
    {
      "cell_type": "code",
      "metadata": {
        "id": "1_CSyFY58s5b"
      },
      "source": [
        "df.drop(['Attribution'], axis=1, inplace=True)"
      ],
      "execution_count": 4,
      "outputs": []
    },
    {
      "cell_type": "code",
      "metadata": {
        "id": "40397cd7-d8ec-41f1-837f-a3bdeeae704a",
        "colab": {
          "base_uri": "https://localhost:8080/",
          "height": 206
        },
        "outputId": "cccdd539-73e2-4af2-8851-7d61ca2b36bd"
      },
      "source": [
        "df.tail()"
      ],
      "execution_count": 5,
      "outputs": [
        {
          "output_type": "execute_result",
          "data": {
            "text/html": [
              "<div>\n",
              "<style scoped>\n",
              "    .dataframe tbody tr th:only-of-type {\n",
              "        vertical-align: middle;\n",
              "    }\n",
              "\n",
              "    .dataframe tbody tr th {\n",
              "        vertical-align: top;\n",
              "    }\n",
              "\n",
              "    .dataframe thead th {\n",
              "        text-align: right;\n",
              "    }\n",
              "</style>\n",
              "<table border=\"1\" class=\"dataframe\">\n",
              "  <thead>\n",
              "    <tr style=\"text-align: right;\">\n",
              "      <th></th>\n",
              "      <th>English</th>\n",
              "      <th>Arabic</th>\n",
              "    </tr>\n",
              "  </thead>\n",
              "  <tbody>\n",
              "    <tr>\n",
              "      <th>12247</th>\n",
              "      <td>The mobile phone you have dialed is either swi...</td>\n",
              "      <td>الهاتف المتحرك الذي طلبته مغلق أو خارج نطاق ال...</td>\n",
              "    </tr>\n",
              "    <tr>\n",
              "      <th>12248</th>\n",
              "      <td>If you decide to answer questions now without ...</td>\n",
              "      <td>إذا قررت الإجابة عن الأسئلة الآن دون حضور محام...</td>\n",
              "    </tr>\n",
              "    <tr>\n",
              "      <th>12249</th>\n",
              "      <td>A man touched down on the moon. A wall came do...</td>\n",
              "      <td>هبط إنسان على سطح القمر، وأنهار حائط في برلين،...</td>\n",
              "    </tr>\n",
              "    <tr>\n",
              "      <th>12250</th>\n",
              "      <td>Ladies and gentlemen, please stand for the nat...</td>\n",
              "      <td>سيداتي و سادتي ، رجاءً قفوا للنشيد الوطني للات...</td>\n",
              "    </tr>\n",
              "    <tr>\n",
              "      <th>12251</th>\n",
              "      <td>There are mothers and fathers who will lie awa...</td>\n",
              "      <td>وهناك أمهات وآباء سيظلون مستيقظين بعد أن ينام ...</td>\n",
              "    </tr>\n",
              "  </tbody>\n",
              "</table>\n",
              "</div>"
            ],
            "text/plain": [
              "                                                 English                                             Arabic\n",
              "12247  The mobile phone you have dialed is either swi...  الهاتف المتحرك الذي طلبته مغلق أو خارج نطاق ال...\n",
              "12248  If you decide to answer questions now without ...  إذا قررت الإجابة عن الأسئلة الآن دون حضور محام...\n",
              "12249  A man touched down on the moon. A wall came do...  هبط إنسان على سطح القمر، وأنهار حائط في برلين،...\n",
              "12250  Ladies and gentlemen, please stand for the nat...  سيداتي و سادتي ، رجاءً قفوا للنشيد الوطني للات...\n",
              "12251  There are mothers and fathers who will lie awa...  وهناك أمهات وآباء سيظلون مستيقظين بعد أن ينام ..."
            ]
          },
          "metadata": {},
          "execution_count": 5
        }
      ]
    },
    {
      "cell_type": "code",
      "metadata": {
        "id": "1hCercGBKnGw"
      },
      "source": [
        "def preprocess_sentence(sentence):\n",
        "  sentence = sentence.lower().strip()\n",
        "  # removing contractions\n",
        "  sentence = re.sub(r\"i'm\", \"i am\", sentence)\n",
        "  sentence = re.sub(r\"he's\", \"he is\", sentence)\n",
        "  sentence = re.sub(r\"she's\", \"she is\", sentence)\n",
        "  sentence = re.sub(r\"it's\", \"it is\", sentence)\n",
        "  sentence = re.sub(r\"that's\", \"that is\", sentence)\n",
        "  sentence = re.sub(r\"what's\", \"that is\", sentence)\n",
        "  sentence = re.sub(r\"where's\", \"where is\", sentence)\n",
        "  sentence = re.sub(r\"how's\", \"how is\", sentence)\n",
        "  sentence = re.sub(r\"\\'ll\", \" will\", sentence)\n",
        "  sentence = re.sub(r\"\\'ve\", \" have\", sentence)\n",
        "  sentence = re.sub(r\"\\'re\", \" are\", sentence)\n",
        "  sentence = re.sub(r\"\\'d\", \" would\", sentence)\n",
        "  sentence = re.sub(r\"\\'re\", \" are\", sentence)\n",
        "  sentence = re.sub(r\"won't\", \"will not\", sentence)\n",
        "  sentence = re.sub(r\"can't\", \"cannot\", sentence)\n",
        "  sentence = re.sub(r\"n't\", \" not\", sentence)\n",
        "  sentence = re.sub(r\"n'\", \"ng\", sentence)\n",
        "  sentence = re.sub(r\"'bout\", \"about\", sentence)\n",
        "  # replacing everything with space except (a-z, A-Z, \".\", \"?\", \"!\", \",\")\n",
        "  sentence = re.sub(r\"[^a-zA-Z?.!,]+\", \" \", sentence)\n",
        "  sentence = sentence.strip()\n",
        "  return sentence"
      ],
      "execution_count": 6,
      "outputs": []
    },
    {
      "cell_type": "code",
      "metadata": {
        "id": "QkqBFznGKoCW"
      },
      "source": [
        "df['English'] = df['English'].apply(preprocess_sentence)"
      ],
      "execution_count": 7,
      "outputs": []
    },
    {
      "cell_type": "code",
      "metadata": {
        "id": "dxO8eFZkKqhf"
      },
      "source": [
        "translator = str.maketrans('', '', string.punctuation)"
      ],
      "execution_count": 8,
      "outputs": []
    },
    {
      "cell_type": "code",
      "metadata": {
        "id": "6nMQ754tK244"
      },
      "source": [
        "df.English= df.English.apply(lambda x: x.translate(translator))\n",
        "df.Arabic= df.Arabic.apply(lambda x: x.translate(translator))"
      ],
      "execution_count": 9,
      "outputs": []
    },
    {
      "cell_type": "code",
      "metadata": {
        "id": "15104303-ee91-4eff-bc9c-ed47916f4481"
      },
      "source": [
        "df.Arabic = df.Arabic.apply(lambda x: 'sos '+ x +' eos')"
      ],
      "execution_count": 10,
      "outputs": []
    },
    {
      "cell_type": "code",
      "metadata": {
        "id": "e7uCHZ7iaM0W"
      },
      "source": [
        "# get english and arabic in one list\n",
        "eng_texts = df.English.to_list()\n",
        "ara_texts = df.Arabic.to_list()"
      ],
      "execution_count": 11,
      "outputs": []
    },
    {
      "cell_type": "markdown",
      "metadata": {
        "id": "8aNL83ChadVb"
      },
      "source": [
        "## Tokenizer\n",
        "Deep learning NN's does not accept text so first have to convert them into numbers "
      ]
    },
    {
      "cell_type": "code",
      "metadata": {
        "id": "M9fg2-rjagoQ"
      },
      "source": [
        "from tensorflow.keras.preprocessing.text import Tokenizer"
      ],
      "execution_count": 12,
      "outputs": []
    },
    {
      "cell_type": "code",
      "metadata": {
        "id": "pkQgPLI3ao0V"
      },
      "source": [
        "def tokenize_sent(text):\n",
        "  tokenizer = Tokenizer()\n",
        "  tokenizer.fit_on_texts(text)\n",
        "  return tokenizer, tokenizer.texts_to_sequences(text)"
      ],
      "execution_count": 13,
      "outputs": []
    },
    {
      "cell_type": "code",
      "metadata": {
        "id": "tsLqMC61bKqV"
      },
      "source": [
        "eng_tokenizer, eng_encoded= tokenize_sent(text= eng_texts)\n",
        "ara_tokenizer, ara_encoded= tokenize_sent(text= ara_texts)"
      ],
      "execution_count": 14,
      "outputs": []
    },
    {
      "cell_type": "code",
      "metadata": {
        "id": "SgcQY325bsr2"
      },
      "source": [
        "eng_index_word = eng_tokenizer.index_word"
      ],
      "execution_count": 15,
      "outputs": []
    },
    {
      "cell_type": "code",
      "metadata": {
        "colab": {
          "base_uri": "https://localhost:8080/"
        },
        "id": "4DTU8OCub8M_",
        "outputId": "2eb10fbe-afa7-4f02-8b5c-6be44d0c89b7"
      },
      "source": [
        "ENG_VOCAB_SIZE = len(eng_tokenizer.word_counts)+1\n",
        "ENG_VOCAB_SIZE"
      ],
      "execution_count": 16,
      "outputs": [
        {
          "output_type": "execute_result",
          "data": {
            "text/plain": [
              "4242"
            ]
          },
          "metadata": {},
          "execution_count": 16
        }
      ]
    },
    {
      "cell_type": "code",
      "metadata": {
        "id": "TwdkNIUOcND7"
      },
      "source": [
        "ara_index_word= ara_tokenizer.index_word"
      ],
      "execution_count": 17,
      "outputs": []
    },
    {
      "cell_type": "code",
      "metadata": {
        "id": "0aFy3fOYF1_n"
      },
      "source": [
        "ara_word_index =ara_tokenizer.word_index"
      ],
      "execution_count": 18,
      "outputs": []
    },
    {
      "cell_type": "code",
      "metadata": {
        "colab": {
          "base_uri": "https://localhost:8080/"
        },
        "id": "zhQ2qcJ1cWLU",
        "outputId": "434a87f8-d144-4c6e-f4f9-41d86acaa67f"
      },
      "source": [
        "ARA_VOCAB_SIZE=len(ara_tokenizer.word_counts)+1\n",
        "ARA_VOCAB_SIZE"
      ],
      "execution_count": 19,
      "outputs": [
        {
          "output_type": "execute_result",
          "data": {
            "text/plain": [
              "13423"
            ]
          },
          "metadata": {},
          "execution_count": 19
        }
      ]
    },
    {
      "cell_type": "code",
      "metadata": {
        "id": "faqGRJuYdHHX"
      },
      "source": [
        "max_eng_len = 0\n",
        "for i in range(len(eng_encoded)):\n",
        "  if len(eng_encoded[i]) > max_eng_len:\n",
        "    max_eng_len= len(eng_encoded[i])\n",
        "\n",
        "max_ara_len = 0\n",
        "for i in range(len(ara_encoded)):\n",
        "  if len(eng_encoded[i]) > max_ara_len:\n",
        "    max_ara_len= len(ara_encoded[i])\n"
      ],
      "execution_count": 20,
      "outputs": []
    },
    {
      "cell_type": "code",
      "metadata": {
        "colab": {
          "base_uri": "https://localhost:8080/"
        },
        "id": "ua8cyluif43t",
        "outputId": "ee6cea8f-3b21-403b-ecb6-ae2fb1b8825a"
      },
      "source": [
        "max_eng_len, max_ara_len"
      ],
      "execution_count": 21,
      "outputs": [
        {
          "output_type": "execute_result",
          "data": {
            "text/plain": [
              "(37, 38)"
            ]
          },
          "metadata": {},
          "execution_count": 21
        }
      ]
    },
    {
      "cell_type": "markdown",
      "metadata": {
        "id": "rFYbSMx2jpcn"
      },
      "source": [
        "## Padding \n",
        "We can not sent sentences with different length in neural net so padd them with zero "
      ]
    },
    {
      "cell_type": "code",
      "metadata": {
        "id": "Tq0nJk0VcwNV"
      },
      "source": [
        "from tensorflow.keras.preprocessing.sequence import pad_sequences"
      ],
      "execution_count": 22,
      "outputs": []
    },
    {
      "cell_type": "code",
      "metadata": {
        "id": "hxM5e1Xhc4oq"
      },
      "source": [
        "# Use max length for padding for eng and arabic\n",
        "eng_padded = pad_sequences(eng_encoded, maxlen=max_eng_len, padding='post')\n",
        "ara_padded = pad_sequences(ara_encoded, maxlen=max_ara_len, padding='post')\n"
      ],
      "execution_count": 23,
      "outputs": []
    },
    {
      "cell_type": "code",
      "metadata": {
        "colab": {
          "base_uri": "https://localhost:8080/"
        },
        "id": "cpWVO9ZUgQlK",
        "outputId": "fbcc8ca2-9e31-440c-f58f-e8c22f92d475"
      },
      "source": [
        "eng_padded.shape"
      ],
      "execution_count": 24,
      "outputs": [
        {
          "output_type": "execute_result",
          "data": {
            "text/plain": [
              "(12252, 37)"
            ]
          },
          "metadata": {},
          "execution_count": 24
        }
      ]
    },
    {
      "cell_type": "code",
      "metadata": {
        "colab": {
          "base_uri": "https://localhost:8080/"
        },
        "id": "m_eCExefgTIu",
        "outputId": "91d81082-cbe6-4233-9bd0-e20a9169c51b"
      },
      "source": [
        "ara_padded.shape"
      ],
      "execution_count": 25,
      "outputs": [
        {
          "output_type": "execute_result",
          "data": {
            "text/plain": [
              "(12252, 38)"
            ]
          },
          "metadata": {},
          "execution_count": 25
        }
      ]
    },
    {
      "cell_type": "code",
      "metadata": {
        "id": "v4a5Wg33ir55"
      },
      "source": [
        "# Convert them into array\n",
        "eng_padded= np.array(eng_padded)\n",
        "ara_padded= np.array(ara_padded)"
      ],
      "execution_count": 26,
      "outputs": []
    },
    {
      "cell_type": "markdown",
      "metadata": {
        "id": "9DpbSrugkHkk"
      },
      "source": [
        "## Split into train and test"
      ]
    },
    {
      "cell_type": "code",
      "metadata": {
        "id": "PFDErgK3gogI"
      },
      "source": [
        "from sklearn.model_selection import train_test_split"
      ],
      "execution_count": 27,
      "outputs": []
    },
    {
      "cell_type": "code",
      "metadata": {
        "id": "3Epi5UGEgr4i"
      },
      "source": [
        "X_train, X_test, y_train, y_test = train_test_split(eng_padded, ara_padded, test_size=0.1, random_state=0)"
      ],
      "execution_count": 28,
      "outputs": []
    },
    {
      "cell_type": "code",
      "metadata": {
        "colab": {
          "base_uri": "https://localhost:8080/"
        },
        "id": "KnElMyebhESu",
        "outputId": "13c85e57-8a0d-4959-aeb9-7613b0e20225"
      },
      "source": [
        "X_train.shape, X_test.shape, y_train.shape, y_test.shape"
      ],
      "execution_count": 29,
      "outputs": [
        {
          "output_type": "execute_result",
          "data": {
            "text/plain": [
              "((11026, 37), (1226, 37), (11026, 38), (1226, 38))"
            ]
          },
          "metadata": {},
          "execution_count": 29
        }
      ]
    },
    {
      "cell_type": "markdown",
      "metadata": {
        "id": "i_ruAVmJkOaJ"
      },
      "source": [
        "## Model"
      ]
    },
    {
      "cell_type": "code",
      "metadata": {
        "id": "549a9719-6cfa-45e8-8b0b-6a8d54f8a4dd"
      },
      "source": [
        "from tensorflow.keras.layers import LSTM, Dropout, Dense, Embedding, Bidirectional, Add, Concatenate, Dropout\n",
        "from tensorflow.keras import Input, Model"
      ],
      "execution_count": 30,
      "outputs": []
    },
    {
      "cell_type": "code",
      "metadata": {
        "id": "6LjnGYbKaujb"
      },
      "source": [
        "# Encoder\n",
        "encoder_input = Input(shape=(None, ))\n",
        "encoder_embd = Embedding(ENG_VOCAB_SIZE,1024, mask_zero=True)(encoder_input)\n",
        "encoder_lstm = Bidirectional(LSTM(512, return_state=True))\n",
        "encoder_output, forw_state_h, forw_state_c, back_state_h, back_state_c = encoder_lstm(encoder_embd)\n",
        "state_h_final = Concatenate()([forw_state_h, back_state_h])\n",
        "state_c_final = Concatenate()([forw_state_c, back_state_c])\n",
        "\n",
        "# Now take only states and create context vector\n",
        "encoder_states= [state_h_final, state_c_final]\n",
        "\n",
        "# Decoder\n",
        "decoder_input = Input(shape=(None,))\n",
        "# For zero padding we have added +1 in arabic vocab size\n",
        "decoder_embd = Embedding(ARA_VOCAB_SIZE, 1024, mask_zero=True)\n",
        "decoder_embedding= decoder_embd(decoder_input)\n",
        "# We used bidirectional layer above so we have to double units of this lstm\n",
        "decoder_lstm = LSTM(1024, return_state=True,return_sequences=True )\n",
        "# just take output of this decoder dont need self states\n",
        "decoder_outputs, _, _= decoder_lstm(decoder_embedding, initial_state=encoder_states)\n",
        "# here this is going to predicct so we can add dense layer here\n",
        "# here we want to convert predicted numbers into probability so use softmax\n",
        "decoder_dense= Dense(ARA_VOCAB_SIZE, activation='softmax')\n",
        "# We will again feed predicted output into decoder to predict its next word\n",
        "decoder_outputs = decoder_dense(decoder_outputs)\n",
        "\n",
        "model = Model([encoder_input, decoder_input], decoder_outputs)"
      ],
      "execution_count": 31,
      "outputs": []
    },
    {
      "cell_type": "code",
      "metadata": {
        "colab": {
          "base_uri": "https://localhost:8080/",
          "height": 564
        },
        "id": "KDdVvq1SFRR8",
        "outputId": "fc9fef0c-b425-49a2-f57c-cc7b1106850e"
      },
      "source": [
        "from tensorflow.keras.utils import plot_model\n",
        "plot_model(model)"
      ],
      "execution_count": 32,
      "outputs": [
        {
          "output_type": "execute_result",
          "data": {
            "image/png": "[encoded data removed]",
            "text/plain": [
              "<IPython.core.display.Image object>"
            ]
          },
          "metadata": {},
          "execution_count": 32
        }
      ]
    },
    {
      "cell_type": "code",
      "metadata": {
        "id": "Kqj60LBkD2Jq"
      },
      "source": [
        "model.compile(optimizer='adam', loss='sparse_categorical_crossentropy', metrics=['accuracy'])"
      ],
      "execution_count": 33,
      "outputs": []
    },
    {
      "cell_type": "code",
      "metadata": {
        "id": "m239tOtErBpm"
      },
      "source": [
        "EPOCHS= 100"
      ],
      "execution_count": 34,
      "outputs": []
    },
    {
      "cell_type": "markdown",
      "metadata": {
        "id": "c_rFGBg-kWmM"
      },
      "source": [
        "### Prepare input for encoder decoder model"
      ]
    },
    {
      "cell_type": "code",
      "metadata": {
        "id": "pX2UDxr_4J7J"
      },
      "source": [
        "# Training\n",
        "encoder_input_data = X_train\n",
        "decoder_input_data = y_train[:,:-1]\n",
        "decoder_target_data = y_train[:,1:]\n",
        "\n",
        "# Testing\n",
        "encoder_input_test = X_test\n",
        "decoder_input_test = y_test[:,:-1]\n",
        "decoder_target_test= y_test[:,1:]"
      ],
      "execution_count": 35,
      "outputs": []
    },
    {
      "cell_type": "code",
      "metadata": {
        "colab": {
          "base_uri": "https://localhost:8080/"
        },
        "id": "A7gk8U0gD66U",
        "outputId": "34c38ede-5ab0-41d2-c316-626362430d3e"
      },
      "source": [
        "history = model.fit([encoder_input_data, decoder_input_data],decoder_target_data, \n",
        "                    epochs=EPOCHS, \n",
        "                    batch_size=128,\n",
        "                    validation_data = ([encoder_input_test, decoder_input_test],decoder_target_test ))"
      ],
      "execution_count": 36,
      "outputs": [
        {
          "output_type": "stream",
          "name": "stdout",
          "text": [
            "Epoch 1/100\n",
            "87/87 [==============================] - 50s 384ms/step - loss: 1.0919 - accuracy: 0.2818 - val_loss: 0.9765 - val_accuracy: 0.3333\n",
            "Epoch 2/100\n",
            "87/87 [==============================] - 29s 333ms/step - loss: 0.9036 - accuracy: 0.3447 - val_loss: 0.9391 - val_accuracy: 0.3592\n",
            "Epoch 3/100\n",
            "87/87 [==============================] - 29s 332ms/step - loss: 0.8140 - accuracy: 0.3715 - val_loss: 0.9010 - val_accuracy: 0.3765\n",
            "Epoch 4/100\n",
            "87/87 [==============================] - 29s 332ms/step - loss: 0.7182 - accuracy: 0.4012 - val_loss: 0.8696 - val_accuracy: 0.4054\n",
            "Epoch 5/100\n",
            "87/87 [==============================] - 29s 331ms/step - loss: 0.6115 - accuracy: 0.4391 - val_loss: 0.8470 - val_accuracy: 0.4254\n",
            "Epoch 6/100\n",
            "87/87 [==============================] - 29s 332ms/step - loss: 0.4971 - accuracy: 0.4870 - val_loss: 0.8370 - val_accuracy: 0.4389\n",
            "Epoch 7/100\n",
            "87/87 [==============================] - 29s 333ms/step - loss: 0.3842 - accuracy: 0.5600 - val_loss: 0.8332 - val_accuracy: 0.4554\n",
            "Epoch 8/100\n",
            "87/87 [==============================] - 29s 331ms/step - loss: 0.2796 - accuracy: 0.6663 - val_loss: 0.8379 - val_accuracy: 0.4646\n",
            "Epoch 9/100\n",
            "87/87 [==============================] - 29s 332ms/step - loss: 0.1966 - accuracy: 0.7599 - val_loss: 0.8428 - val_accuracy: 0.4745\n",
            "Epoch 10/100\n",
            "87/87 [==============================] - 29s 331ms/step - loss: 0.1377 - accuracy: 0.8312 - val_loss: 0.8538 - val_accuracy: 0.4812\n",
            "Epoch 11/100\n",
            "87/87 [==============================] - 29s 331ms/step - loss: 0.0969 - accuracy: 0.8853 - val_loss: 0.8589 - val_accuracy: 0.4867\n",
            "Epoch 12/100\n",
            "87/87 [==============================] - 29s 331ms/step - loss: 0.0707 - accuracy: 0.9189 - val_loss: 0.8640 - val_accuracy: 0.4873\n",
            "Epoch 13/100\n",
            "87/87 [==============================] - 29s 332ms/step - loss: 0.0526 - accuracy: 0.9412 - val_loss: 0.8721 - val_accuracy: 0.4908\n",
            "Epoch 14/100\n",
            "87/87 [==============================] - 29s 331ms/step - loss: 0.0410 - accuracy: 0.9549 - val_loss: 0.8804 - val_accuracy: 0.4926\n",
            "Epoch 15/100\n",
            "87/87 [==============================] - 29s 331ms/step - loss: 0.0332 - accuracy: 0.9622 - val_loss: 0.8881 - val_accuracy: 0.4962\n",
            "Epoch 16/100\n",
            "87/87 [==============================] - 29s 332ms/step - loss: 0.0284 - accuracy: 0.9658 - val_loss: 0.8938 - val_accuracy: 0.4942\n",
            "Epoch 17/100\n",
            "87/87 [==============================] - 29s 331ms/step - loss: 0.0250 - accuracy: 0.9687 - val_loss: 0.8977 - val_accuracy: 0.4926\n",
            "Epoch 18/100\n",
            "87/87 [==============================] - 29s 332ms/step - loss: 0.0227 - accuracy: 0.9700 - val_loss: 0.9034 - val_accuracy: 0.4932\n",
            "Epoch 19/100\n",
            "87/87 [==============================] - 29s 332ms/step - loss: 0.0210 - accuracy: 0.9712 - val_loss: 0.9097 - val_accuracy: 0.4959\n",
            "Epoch 20/100\n",
            "87/87 [==============================] - 29s 331ms/step - loss: 0.0196 - accuracy: 0.9719 - val_loss: 0.9130 - val_accuracy: 0.4924\n",
            "Epoch 21/100\n",
            "87/87 [==============================] - 29s 332ms/step - loss: 0.0187 - accuracy: 0.9723 - val_loss: 0.9126 - val_accuracy: 0.4922\n",
            "Epoch 22/100\n",
            "87/87 [==============================] - 29s 331ms/step - loss: 0.0180 - accuracy: 0.9721 - val_loss: 0.9199 - val_accuracy: 0.4941\n",
            "Epoch 23/100\n",
            "87/87 [==============================] - 29s 332ms/step - loss: 0.0172 - accuracy: 0.9728 - val_loss: 0.9201 - val_accuracy: 0.4946\n",
            "Epoch 24/100\n",
            "87/87 [==============================] - 29s 332ms/step - loss: 0.0169 - accuracy: 0.9728 - val_loss: 0.9229 - val_accuracy: 0.4933\n",
            "Epoch 25/100\n",
            "87/87 [==============================] - 29s 332ms/step - loss: 0.0162 - accuracy: 0.9731 - val_loss: 0.9259 - val_accuracy: 0.4924\n",
            "Epoch 26/100\n",
            "87/87 [==============================] - 29s 332ms/step - loss: 0.0160 - accuracy: 0.9728 - val_loss: 0.9301 - val_accuracy: 0.4956\n",
            "Epoch 27/100\n",
            "87/87 [==============================] - 29s 332ms/step - loss: 0.0158 - accuracy: 0.9727 - val_loss: 0.9334 - val_accuracy: 0.4949\n",
            "Epoch 28/100\n",
            "87/87 [==============================] - 29s 331ms/step - loss: 0.0155 - accuracy: 0.9724 - val_loss: 0.9354 - val_accuracy: 0.4964\n",
            "Epoch 29/100\n",
            "87/87 [==============================] - 29s 332ms/step - loss: 0.0154 - accuracy: 0.9725 - val_loss: 0.9325 - val_accuracy: 0.4914\n",
            "Epoch 30/100\n",
            "87/87 [==============================] - 29s 332ms/step - loss: 0.0152 - accuracy: 0.9729 - val_loss: 0.9345 - val_accuracy: 0.4932\n",
            "Epoch 31/100\n",
            "87/87 [==============================] - 29s 331ms/step - loss: 0.0146 - accuracy: 0.9730 - val_loss: 0.9387 - val_accuracy: 0.4940\n",
            "Epoch 32/100\n",
            "87/87 [==============================] - 29s 331ms/step - loss: 0.0145 - accuracy: 0.9731 - val_loss: 0.9402 - val_accuracy: 0.4937\n",
            "Epoch 33/100\n",
            "87/87 [==============================] - 29s 331ms/step - loss: 0.0144 - accuracy: 0.9730 - val_loss: 0.9414 - val_accuracy: 0.4947\n",
            "Epoch 34/100\n",
            "87/87 [==============================] - 29s 331ms/step - loss: 0.0143 - accuracy: 0.9726 - val_loss: 0.9400 - val_accuracy: 0.4955\n",
            "Epoch 35/100\n",
            "87/87 [==============================] - 29s 331ms/step - loss: 0.0144 - accuracy: 0.9732 - val_loss: 0.9420 - val_accuracy: 0.4909\n",
            "Epoch 36/100\n",
            "87/87 [==============================] - 29s 331ms/step - loss: 0.0143 - accuracy: 0.9728 - val_loss: 0.9402 - val_accuracy: 0.4921\n",
            "Epoch 37/100\n",
            "87/87 [==============================] - 29s 332ms/step - loss: 0.0146 - accuracy: 0.9727 - val_loss: 0.9453 - val_accuracy: 0.4964\n",
            "Epoch 38/100\n",
            "87/87 [==============================] - 29s 332ms/step - loss: 0.0150 - accuracy: 0.9723 - val_loss: 0.9452 - val_accuracy: 0.4877\n",
            "Epoch 39/100\n",
            "87/87 [==============================] - 29s 331ms/step - loss: 0.0148 - accuracy: 0.9721 - val_loss: 0.9439 - val_accuracy: 0.4965\n",
            "Epoch 40/100\n",
            "87/87 [==============================] - 29s 331ms/step - loss: 0.0149 - accuracy: 0.9723 - val_loss: 0.9452 - val_accuracy: 0.4938\n",
            "Epoch 41/100\n",
            "87/87 [==============================] - 29s 332ms/step - loss: 0.0150 - accuracy: 0.9718 - val_loss: 0.9490 - val_accuracy: 0.4964\n",
            "Epoch 42/100\n",
            "87/87 [==============================] - 29s 332ms/step - loss: 0.0144 - accuracy: 0.9725 - val_loss: 0.9491 - val_accuracy: 0.4950\n",
            "Epoch 43/100\n",
            "87/87 [==============================] - 29s 332ms/step - loss: 0.0143 - accuracy: 0.9722 - val_loss: 0.9504 - val_accuracy: 0.4944\n",
            "Epoch 44/100\n",
            "87/87 [==============================] - 29s 332ms/step - loss: 0.0143 - accuracy: 0.9720 - val_loss: 0.9504 - val_accuracy: 0.4938\n",
            "Epoch 45/100\n",
            "87/87 [==============================] - 29s 332ms/step - loss: 0.0139 - accuracy: 0.9727 - val_loss: 0.9441 - val_accuracy: 0.4959\n",
            "Epoch 46/100\n",
            "87/87 [==============================] - 29s 332ms/step - loss: 0.0136 - accuracy: 0.9727 - val_loss: 0.9525 - val_accuracy: 0.4935\n",
            "Epoch 47/100\n",
            "87/87 [==============================] - 29s 332ms/step - loss: 0.0132 - accuracy: 0.9729 - val_loss: 0.9507 - val_accuracy: 0.4953\n",
            "Epoch 48/100\n",
            "87/87 [==============================] - 29s 331ms/step - loss: 0.0131 - accuracy: 0.9730 - val_loss: 0.9573 - val_accuracy: 0.4973\n",
            "Epoch 49/100\n",
            "87/87 [==============================] - 29s 331ms/step - loss: 0.0130 - accuracy: 0.9729 - val_loss: 0.9533 - val_accuracy: 0.4947\n",
            "Epoch 50/100\n",
            "87/87 [==============================] - 29s 332ms/step - loss: 0.0127 - accuracy: 0.9729 - val_loss: 0.9523 - val_accuracy: 0.4940\n",
            "Epoch 51/100\n",
            "87/87 [==============================] - 29s 332ms/step - loss: 0.0127 - accuracy: 0.9732 - val_loss: 0.9488 - val_accuracy: 0.4924\n",
            "Epoch 52/100\n",
            "87/87 [==============================] - 29s 331ms/step - loss: 0.0124 - accuracy: 0.9730 - val_loss: 0.9574 - val_accuracy: 0.4947\n",
            "Epoch 53/100\n",
            "87/87 [==============================] - 29s 333ms/step - loss: 0.0125 - accuracy: 0.9732 - val_loss: 0.9592 - val_accuracy: 0.4945\n",
            "Epoch 54/100\n",
            "87/87 [==============================] - 29s 332ms/step - loss: 0.0123 - accuracy: 0.9731 - val_loss: 0.9541 - val_accuracy: 0.4945\n",
            "Epoch 55/100\n",
            "87/87 [==============================] - 29s 332ms/step - loss: 0.0122 - accuracy: 0.9734 - val_loss: 0.9580 - val_accuracy: 0.4949\n",
            "Epoch 56/100\n",
            "87/87 [==============================] - 29s 332ms/step - loss: 0.0122 - accuracy: 0.9732 - val_loss: 0.9566 - val_accuracy: 0.4942\n",
            "Epoch 57/100\n",
            "87/87 [==============================] - 29s 331ms/step - loss: 0.0119 - accuracy: 0.9728 - val_loss: 0.9617 - val_accuracy: 0.4981\n",
            "Epoch 58/100\n",
            "87/87 [==============================] - 29s 332ms/step - loss: 0.0121 - accuracy: 0.9732 - val_loss: 0.9665 - val_accuracy: 0.4930\n",
            "Epoch 59/100\n",
            "87/87 [==============================] - 29s 332ms/step - loss: 0.0127 - accuracy: 0.9731 - val_loss: 0.9614 - val_accuracy: 0.4932\n",
            "Epoch 60/100\n",
            "87/87 [==============================] - 29s 331ms/step - loss: 0.0132 - accuracy: 0.9725 - val_loss: 0.9544 - val_accuracy: 0.4941\n",
            "Epoch 61/100\n",
            "87/87 [==============================] - 29s 331ms/step - loss: 0.0140 - accuracy: 0.9715 - val_loss: 0.9550 - val_accuracy: 0.4913\n",
            "Epoch 62/100\n",
            "87/87 [==============================] - 29s 332ms/step - loss: 0.0148 - accuracy: 0.9707 - val_loss: 0.9579 - val_accuracy: 0.4935\n",
            "Epoch 63/100\n",
            "87/87 [==============================] - 29s 332ms/step - loss: 0.0149 - accuracy: 0.9713 - val_loss: 0.9713 - val_accuracy: 0.4945\n",
            "Epoch 64/100\n",
            "87/87 [==============================] - 29s 332ms/step - loss: 0.0149 - accuracy: 0.9705 - val_loss: 0.9611 - val_accuracy: 0.4933\n",
            "Epoch 65/100\n",
            "87/87 [==============================] - 29s 333ms/step - loss: 0.0143 - accuracy: 0.9713 - val_loss: 0.9618 - val_accuracy: 0.4913\n",
            "Epoch 66/100\n",
            "87/87 [==============================] - 29s 332ms/step - loss: 0.0140 - accuracy: 0.9714 - val_loss: 0.9629 - val_accuracy: 0.4913\n",
            "Epoch 67/100\n",
            "87/87 [==============================] - 29s 332ms/step - loss: 0.0131 - accuracy: 0.9725 - val_loss: 0.9616 - val_accuracy: 0.4962\n",
            "Epoch 68/100\n",
            "87/87 [==============================] - 29s 332ms/step - loss: 0.0127 - accuracy: 0.9727 - val_loss: 0.9679 - val_accuracy: 0.4978\n",
            "Epoch 69/100\n",
            "87/87 [==============================] - 29s 332ms/step - loss: 0.0119 - accuracy: 0.9730 - val_loss: 0.9612 - val_accuracy: 0.4960\n",
            "Epoch 70/100\n",
            "87/87 [==============================] - 29s 332ms/step - loss: 0.0117 - accuracy: 0.9732 - val_loss: 0.9766 - val_accuracy: 0.4988\n",
            "Epoch 71/100\n",
            "87/87 [==============================] - 29s 332ms/step - loss: 0.0113 - accuracy: 0.9733 - val_loss: 0.9664 - val_accuracy: 0.4969\n",
            "Epoch 72/100\n",
            "87/87 [==============================] - 29s 331ms/step - loss: 0.0112 - accuracy: 0.9731 - val_loss: 0.9759 - val_accuracy: 0.4972\n",
            "Epoch 73/100\n",
            "87/87 [==============================] - 29s 331ms/step - loss: 0.0109 - accuracy: 0.9730 - val_loss: 0.9654 - val_accuracy: 0.4963\n",
            "Epoch 74/100\n",
            "87/87 [==============================] - 29s 332ms/step - loss: 0.0109 - accuracy: 0.9734 - val_loss: 0.9693 - val_accuracy: 0.4951\n",
            "Epoch 75/100\n",
            "87/87 [==============================] - 29s 332ms/step - loss: 0.0109 - accuracy: 0.9729 - val_loss: 0.9678 - val_accuracy: 0.4973\n",
            "Epoch 76/100\n",
            "87/87 [==============================] - 29s 331ms/step - loss: 0.0106 - accuracy: 0.9737 - val_loss: 0.9731 - val_accuracy: 0.4982\n",
            "Epoch 77/100\n",
            "87/87 [==============================] - 29s 332ms/step - loss: 0.0105 - accuracy: 0.9736 - val_loss: 0.9756 - val_accuracy: 0.4988\n",
            "Epoch 78/100\n",
            "87/87 [==============================] - 29s 331ms/step - loss: 0.0107 - accuracy: 0.9730 - val_loss: 0.9713 - val_accuracy: 0.4978\n",
            "Epoch 79/100\n",
            "87/87 [==============================] - 29s 331ms/step - loss: 0.0106 - accuracy: 0.9732 - val_loss: 0.9777 - val_accuracy: 0.4987\n",
            "Epoch 80/100\n",
            "87/87 [==============================] - 29s 331ms/step - loss: 0.0105 - accuracy: 0.9737 - val_loss: 0.9684 - val_accuracy: 0.4969\n",
            "Epoch 81/100\n",
            "87/87 [==============================] - 29s 332ms/step - loss: 0.0106 - accuracy: 0.9730 - val_loss: 0.9705 - val_accuracy: 0.4944\n",
            "Epoch 82/100\n",
            "87/87 [==============================] - 29s 332ms/step - loss: 0.0104 - accuracy: 0.9730 - val_loss: 0.9734 - val_accuracy: 0.4953\n",
            "Epoch 83/100\n",
            "87/87 [==============================] - 29s 332ms/step - loss: 0.0103 - accuracy: 0.9732 - val_loss: 0.9726 - val_accuracy: 0.4954\n",
            "Epoch 84/100\n",
            "87/87 [==============================] - 29s 331ms/step - loss: 0.0100 - accuracy: 0.9737 - val_loss: 0.9714 - val_accuracy: 0.4971\n",
            "Epoch 85/100\n",
            "87/87 [==============================] - 29s 332ms/step - loss: 0.0103 - accuracy: 0.9730 - val_loss: 0.9760 - val_accuracy: 0.4965\n",
            "Epoch 86/100\n",
            "87/87 [==============================] - 29s 331ms/step - loss: 0.0106 - accuracy: 0.9727 - val_loss: 0.9680 - val_accuracy: 0.4973\n",
            "Epoch 87/100\n",
            "87/87 [==============================] - 29s 331ms/step - loss: 0.0104 - accuracy: 0.9729 - val_loss: 0.9720 - val_accuracy: 0.4955\n",
            "Epoch 88/100\n",
            "87/87 [==============================] - 29s 331ms/step - loss: 0.0103 - accuracy: 0.9730 - val_loss: 0.9717 - val_accuracy: 0.4940\n",
            "Epoch 89/100\n",
            "87/87 [==============================] - 29s 331ms/step - loss: 0.0104 - accuracy: 0.9728 - val_loss: 0.9667 - val_accuracy: 0.4930\n",
            "Epoch 90/100\n",
            "87/87 [==============================] - 29s 331ms/step - loss: 0.0103 - accuracy: 0.9735 - val_loss: 0.9711 - val_accuracy: 0.4938\n",
            "Epoch 91/100\n",
            "87/87 [==============================] - 29s 330ms/step - loss: 0.0106 - accuracy: 0.9730 - val_loss: 0.9696 - val_accuracy: 0.4971\n",
            "Epoch 92/100\n",
            "87/87 [==============================] - 29s 331ms/step - loss: 0.0106 - accuracy: 0.9728 - val_loss: 0.9726 - val_accuracy: 0.4942\n",
            "Epoch 93/100\n",
            "87/87 [==============================] - 29s 332ms/step - loss: 0.0104 - accuracy: 0.9727 - val_loss: 0.9797 - val_accuracy: 0.4947\n",
            "Epoch 94/100\n",
            "87/87 [==============================] - 29s 332ms/step - loss: 0.0105 - accuracy: 0.9727 - val_loss: 0.9803 - val_accuracy: 0.4897\n",
            "Epoch 95/100\n",
            "87/87 [==============================] - 29s 331ms/step - loss: 0.0109 - accuracy: 0.9722 - val_loss: 0.9775 - val_accuracy: 0.4906\n",
            "Epoch 96/100\n",
            "87/87 [==============================] - 29s 332ms/step - loss: 0.0114 - accuracy: 0.9721 - val_loss: 0.9857 - val_accuracy: 0.4915\n",
            "Epoch 97/100\n",
            "87/87 [==============================] - 29s 333ms/step - loss: 0.0116 - accuracy: 0.9722 - val_loss: 0.9832 - val_accuracy: 0.4910\n",
            "Epoch 98/100\n",
            "87/87 [==============================] - 29s 332ms/step - loss: 0.0118 - accuracy: 0.9718 - val_loss: 0.9801 - val_accuracy: 0.4885\n",
            "Epoch 99/100\n",
            "87/87 [==============================] - 29s 332ms/step - loss: 0.0124 - accuracy: 0.9715 - val_loss: 0.9814 - val_accuracy: 0.4935\n",
            "Epoch 100/100\n",
            "87/87 [==============================] - 29s 332ms/step - loss: 0.0132 - accuracy: 0.9700 - val_loss: 0.9849 - val_accuracy: 0.4835\n"
          ]
        }
      ]
    },
    {
      "cell_type": "code",
      "metadata": {
        "id": "sUCunS2T7eox"
      },
      "source": [
        "model.save(\"/content/gdrive/My Drive/colab_files/ara/modellstm4.h5\")"
      ],
      "execution_count": 37,
      "outputs": []
    },
    {
      "cell_type": "markdown",
      "metadata": {
        "id": "Ev6k1unJEB_k"
      },
      "source": [
        "### Inference Model"
      ]
    },
    {
      "cell_type": "code",
      "metadata": {
        "id": "prX-qe6bEcll"
      },
      "source": [
        "from tensorflow.keras.layers import LSTM, Dropout, Dense, Embedding\n",
        "from tensorflow.keras import Input, Model"
      ],
      "execution_count": 38,
      "outputs": []
    },
    {
      "cell_type": "code",
      "metadata": {
        "id": "tA4s98lZ4jyt"
      },
      "source": [
        "encoder_model = Model(encoder_input, encoder_states)"
      ],
      "execution_count": 39,
      "outputs": []
    },
    {
      "cell_type": "code",
      "metadata": {
        "id": "tBAl6i2_4jyt"
      },
      "source": [
        "decoder_state_input_h = Input(shape=(1024,))\n",
        "decoder_state_input_c= Input(shape=(1024,))\n",
        "decoder_states_input= [decoder_state_input_h, decoder_state_input_c]\n",
        "\n",
        "dec_embd2 = decoder_embd(decoder_input)\n",
        "\n",
        "decoder_output2,state_h2, state_c2 = decoder_lstm(dec_embd2, initial_state=decoder_states_input)\n",
        "deccoder_states2= [state_h2, state_c2]\n",
        "\n",
        "decoder_output2 = decoder_dense(decoder_output2)\n",
        "\n",
        "decoder_model = Model(\n",
        "                      [decoder_input]+decoder_states_input,\n",
        "                      [decoder_output2]+ deccoder_states2)"
      ],
      "execution_count": 40,
      "outputs": []
    },
    {
      "cell_type": "markdown",
      "metadata": {
        "id": "-ujz_htekjoK"
      },
      "source": [
        "## Converting predicted numbers into text"
      ]
    },
    {
      "cell_type": "code",
      "metadata": {
        "id": "aq7hdBLWcQY8"
      },
      "source": [
        "def get_predicted_sentence(input_seq):\n",
        "    # Encode the input as state vectors.\n",
        "    states_value = encoder_model.predict(input_seq)\n",
        "    \n",
        "    # Generate empty target sequence of length 1.\n",
        "    target_seq = np.zeros((1,1))\n",
        "    \n",
        "    # Populate the first character of target sequence with the start character.\n",
        "    target_seq[0, 0] = ara_word_index['sos']\n",
        "    \n",
        "    # Sampling loop for a batch of sequences\n",
        "\n",
        "    # (to simplify, here we assume a batch of size 1).\n",
        "    stop_condition = False\n",
        "    decoded_sentence = ''\n",
        "    \n",
        "    while not stop_condition:\n",
        "        output_tokens, h, c = decoder_model.predict([target_seq] + states_value)\n",
        "        # Sample a token\n",
        "        sampled_token_index = np.argmax(output_tokens[0, -1, :])\n",
        "        if sampled_token_index==0:\n",
        "          break\n",
        "        else:   \n",
        "         # convert max index number to arabic word\n",
        "         sampled_char = ara_index_word[sampled_token_index]\n",
        "        # aapend it ti decoded sent\n",
        "        decoded_sentence += ' '+sampled_char\n",
        "        \n",
        "        # Exit condition: either hit max length or find stop token.\n",
        "        if (sampled_char == 'eos' or len(decoded_sentence) >= 37):\n",
        "            stop_condition = True\n",
        "        \n",
        "        # Update the target sequence (of length 1).\n",
        "        target_seq = np.zeros((1,1))\n",
        "        target_seq[0, 0] = sampled_token_index\n",
        "        \n",
        "        # Update states\n",
        "        states_value = [h, c]\n",
        "    \n",
        "    return decoded_sentence"
      ],
      "execution_count": 41,
      "outputs": []
    },
    {
      "cell_type": "code",
      "metadata": {
        "id": "qqDslyeqn1_f"
      },
      "source": [
        "def get_arabic_sentence(sequence):\n",
        "  sentence=\"\"\n",
        "  for i in sequence:\n",
        "    if ((i != 0 and i != ara_word_index['sos']) and i != ara_word_index['eos']):\n",
        "      sentence = sentence + ara_index_word[i]+' '\n",
        "  return sentence\n",
        "\n",
        "def get_eng_sent(sequence):\n",
        "    sentence =''\n",
        "    for i in sequence:\n",
        "      if(i!=0):\n",
        "        sentence = sentence + eng_index_word[i]+' '\n",
        "    return sentence       "
      ],
      "execution_count": 42,
      "outputs": []
    },
    {
      "cell_type": "code",
      "metadata": {
        "id": "DoYzpFcIi5sm",
        "colab": {
          "base_uri": "https://localhost:8080/"
        },
        "outputId": "b42cd220-2298-48d2-ce53-175360efd806"
      },
      "source": [
        "for i in range(20):\n",
        "  print(\"English sentence:\",get_eng_sent(X_test[i]))\n",
        "  print(\"Actual Arabic Sentence:\",get_arabic_sentence(y_test[i]))\n",
        "  print(\"Translated Arabic Sentence:\",get_predicted_sentence(X_test[i].reshape(1,37))[:-4])\n",
        "  print(\"\\n\")"
      ],
      "execution_count": 43,
      "outputs": [
        {
          "output_type": "stream",
          "name": "stdout",
          "text": [
            "English sentence: where will we meet \n",
            "Actual Arabic Sentence: أين سنلتقي؟ \n",
            "Translated Arabic Sentence:  أين سنأكل؟\n",
            "\n",
            "\n",
            "English sentence: i tried to tell tom \n",
            "Actual Arabic Sentence: حاولت إخبار توم \n",
            "Translated Arabic Sentence:  حاولت أن توم\n",
            "\n",
            "\n",
            "English sentence: he was foolish enough to believe what she said \n",
            "Actual Arabic Sentence: لقد كان أحمق بما يكفي ليصدق ما قالته \n",
            "Translated Arabic Sentence:  لقد كان غبي بما يكفي لتصديق ما ق\n",
            "\n",
            "\n",
            "English sentence: i will give you a good piece of advice \n",
            "Actual Arabic Sentence: سأنصحك نصيحة مفيدة \n",
            "Translated Arabic Sentence:  سأشتري ساعةً لابني\n",
            "\n",
            "\n",
            "English sentence: it will be easy to find someone to do that for you \n",
            "Actual Arabic Sentence: سيكون من السهل إيجاد شخص يقوم بذلك من أجلك \n",
            "Translated Arabic Sentence:  من الأفضل أن يكون الناس طريقة أفضل \n",
            "\n",
            "\n",
            "English sentence: where is the boss \n",
            "Actual Arabic Sentence: أين الرئيس؟ \n",
            "Translated Arabic Sentence:  أين الزعيم؟\n",
            "\n",
            "\n",
            "English sentence: a prolonged silence followed \n",
            "Actual Arabic Sentence: حدث بعده سكون طويل \n",
            "Translated Arabic Sentence:  لقد تم معاقبتهم على جرائمهم\n",
            "\n",
            "\n",
            "English sentence: we are very sorry \n",
            "Actual Arabic Sentence: نحن آسفون جداً \n",
            "Translated Arabic Sentence:  إنهم سعداء\n",
            "\n",
            "\n",
            "English sentence: i want you to leave my house \n",
            "Actual Arabic Sentence: أريد منك مغادرة منزلي \n",
            "Translated Arabic Sentence:  أريد أن أذهب منزلًا\n",
            "\n",
            "\n",
            "English sentence: the soldier refused to fire his rifle at the enemy \n",
            "Actual Arabic Sentence: رفض الجندي أن يطلق بندقيته على العدو \n",
            "Translated Arabic Sentence:  أخبرني أن رئيس القسم يأتي إلي في الول\n",
            "\n",
            "\n",
            "English sentence: it is almost three \n",
            "Actual Arabic Sentence: لقد قاربت الساعة على الثالثة \n",
            "Translated Arabic Sentence:  إنه سريع الكلام\n",
            "\n",
            "\n",
            "English sentence: i aimed my gun at the target \n",
            "Actual Arabic Sentence: صوبت مسدسي نحو الهدف \n",
            "Translated Arabic Sentence:  اشتريت رجلاً إلى اليابان\n",
            "\n",
            "\n",
            "English sentence: i will be back soon \n",
            "Actual Arabic Sentence: سأعود قريباً \n",
            "Translated Arabic Sentence:  سَوْفَ أَعُوْدُ قَرِيْبًا\n",
            "\n",
            "\n",
            "English sentence: he will also go \n",
            "Actual Arabic Sentence: سيذهب كذلك \n",
            "Translated Arabic Sentence:  هو تركني أذهب\n",
            "\n",
            "\n",
            "English sentence: he plays very well \n",
            "Actual Arabic Sentence: يلعب بمهارة \n",
            "Translated Arabic Sentence:  إنه يقود جيداً\n",
            "\n",
            "\n",
            "English sentence: do not read in this room \n",
            "Actual Arabic Sentence: لا تقرأ في تلك الغرفة \n",
            "Translated Arabic Sentence:  لا تقرأ في تلك الغرفة\n",
            "\n",
            "\n",
            "English sentence: my father s a doctor \n",
            "Actual Arabic Sentence: أبي طبيب \n",
            "Translated Arabic Sentence:  يعمل والدي طبيباً\n",
            "\n",
            "\n",
            "English sentence: mt fuji was covered with snow \n",
            "Actual Arabic Sentence: كان جبل فوجي مغطى بالثلج \n",
            "Translated Arabic Sentence:  لقد تم اختراع صداقتهم الورقية\n",
            "\n",
            "\n",
            "English sentence: we hurried to the train station \n",
            "Actual Arabic Sentence: أسرعنا إلى محطة القطار \n",
            "Translated Arabic Sentence:  نحن ذاهبون إلى وسط غرفتي\n",
            "\n",
            "\n",
            "English sentence: you work too hard \n",
            "Actual Arabic Sentence: إنك تجهد نفسك بالعمل \n",
            "Translated Arabic Sentence:  أنت تجهد نفسك في عملك\n",
            "\n",
            "\n"
          ]
        }
      ]
    }
  ]
}